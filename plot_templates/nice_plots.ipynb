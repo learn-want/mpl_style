treemap with labels wrap and color map
https://gist.github.com/gVallverdu/0b446d0061a785c808dbe79262a37eea
